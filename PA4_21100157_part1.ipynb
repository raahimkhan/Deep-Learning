{
 "cells": [
  {
   "cell_type": "markdown",
   "metadata": {
    "colab_type": "text",
    "id": "PYubDSiwGQAh"
   },
   "source": [
    "# CS 436 CS5310 - Computer Vision - Assignment#4 - Part#1\n",
    "\n",
    "*__Submission Instructions:__*\n",
    "- Rename this notebook to `PA4_rollnumber.ipynb` before submission on LMS.\n",
    "- Code for all the tasks must be written in this notebook (you do not need to submit any other files).\n",
    "- The output of all cells must be present in the version of the notebook you submit.\n",
    "- The university honor code should be maintained. Any violation, if found, will result in disciplinary action."
   ]
  },
  {
   "cell_type": "code",
   "execution_count": 1,
   "metadata": {
    "ExecuteTime": {
     "end_time": "2020-04-24T17:17:11.227987Z",
     "start_time": "2020-04-24T17:16:59.152949Z"
    },
    "colab": {},
    "colab_type": "code",
    "id": "UUlVZWsoGULv"
   },
   "outputs": [
    {
     "name": "stderr",
     "output_type": "stream",
     "text": [
      "Using TensorFlow backend.\n"
     ]
    }
   ],
   "source": [
    "#Executed on Colab\n",
    "#Import all the required libraries\n",
    "import keras\n",
    "from keras.datasets import fashion_mnist\n",
    "from keras.layers import Activation, Input, Embedding, LSTM, Dense, Lambda, GaussianNoise, concatenate\n",
    "from keras.models import Model\n",
    "import numpy as np\n",
    "from keras.utils import np_utils\n",
    "from keras.layers.core import Dense, Dropout, Activation\n",
    "from keras import backend as K\n",
    "from keras.models import Sequential\n",
    "from keras.layers import Dense\n",
    "from sklearn.model_selection import train_test_split\n",
    "from keras.optimizers import SGD, Adam, RMSprop\n",
    "from keras.constraints import max_norm\n",
    "from keras.layers import MaxPooling2D, Dropout, Dense, Flatten, Activation, Conv2D, GlobalAveragePooling2D\n",
    "from keras.models import Sequential\n",
    "from keras.losses import categorical_crossentropy as logloss\n",
    "from keras.metrics import categorical_accuracy\n",
    "from keras.applications import vgg16\n",
    "import matplotlib.pyplot as plt\n",
    "from sklearn.metrics import mean_squared_error\n",
    "from matplotlib import offsetbox\n",
    "import cv2\n",
    "%matplotlib inline\n",
    "import matplotlib.pyplot as plt\n",
    "plt.style.use('seaborn')\n",
    "import seaborn as sn\n",
    "from sklearn.metrics import confusion_matrix"
   ]
  },
  {
   "cell_type": "markdown",
   "metadata": {
    "colab_type": "text",
    "id": "4YNoEeQiGdGi"
   },
   "source": [
    "## Overview\n",
    "\n",
    "In this assignment you will be exploring a few important concepts used in the deep learning projects:\n",
    "- Training image classification algorithms using Deep Learning\n",
    "- Dataset Analyses \n",
    "- Testing deep learning classifier with the test data\n",
    "- Fine-tuning / Transfer Learning\n",
    "\n",
    "We will be using the Fashion MNIST dataset that is provided by Keras. You will also be working with pretrained models, which can be downloaded from keras applications. You are **highly** encouraged to explore the images in dataset and model architectures in order to get the most out of this assignment. \n",
    "\n",
    "**_Dataset:_**\n",
    "Fashion-MNIST is a dataset of  article images from a e-commerce website named zalando with 70,000 images of size (28x28x1) each belonging to one of the 10 classes.\n",
    "\n",
    "**_Pretrained Models:_** \n",
    "Can be found [here](https://keras.io/applications/#applications)"
   ]
  },
  {
   "cell_type": "markdown",
   "metadata": {
    "colab_type": "text",
    "id": "1dSvdXobGlZy"
   },
   "source": [
    "## Task 1: Data Preparation for transfer learning\n",
    "\n",
    "To prepare your data:\n",
    "- Download the Fashion MNIST dataset\n",
    "- Split it into train, validation, and test sets\n",
    "- Convert the labels into categorical one hot encoded labels\n",
    "- Cast the images as float and normalize the values between zero and one\n",
    "- The Fashion MNIST dataset contains images of shape (28,28,1), the mimumm (height,width,channels) required by our pretrained model(in this case vgg-16) is (32,32,3)\n",
    "- Convert the images in the datset to shape (32,32,3)"
   ]
  },
  {
   "cell_type": "code",
   "execution_count": 2,
   "metadata": {
    "ExecuteTime": {
     "end_time": "2020-04-24T17:17:15.617446Z",
     "start_time": "2020-04-24T17:17:14.165561Z"
    },
    "colab": {},
    "colab_type": "code",
    "id": "t3SNrR8VGaCP"
   },
   "outputs": [],
   "source": [
    "nb_classes = 10\n",
    "\n",
    "# Download Fashion MNIST dataset (Done for you)\n",
    "(X_Train, y_Train), (X_test, y_test) = fashion_mnist.load_data()\n",
    "\n",
    "# Split the fashion MNIST dataset into train, validation and test sets (Done for you)\n",
    "X_train, X_val, y_train, y_val = train_test_split(X_Train, y_Train, test_size=0.20)\n",
    "\n",
    "# Convert y_train,y_val and y_test to categorical binary values \n",
    "# TO DO\n",
    "# Hint\n",
    "# See function \"np_utils.to_categorical()\"\n",
    "\n",
    "y_train = np_utils.to_categorical(y_train, nb_classes)\n",
    "y_val = np_utils.to_categorical(y_val, nb_classes)\n",
    "y_test = np_utils.to_categorical(y_test, nb_classes)\n",
    "\n",
    "# `to_categorical` converts into a matrix with as many\n",
    "# columns as there are classes. The number of rows\n",
    "# stays the same."
   ]
  },
  {
   "cell_type": "code",
   "execution_count": 3,
   "metadata": {
    "ExecuteTime": {
     "end_time": "2020-04-24T17:17:16.257433Z",
     "start_time": "2020-04-24T17:17:15.625368Z"
    },
    "colab": {},
    "colab_type": "code",
    "id": "_Lc7sFV0HAK5"
   },
   "outputs": [],
   "source": [
    "# Reshape your dataset to batch_size, width, height, # channels (Done for you)\n",
    "X_train = X_train.reshape(48000, 28, 28, 1)\n",
    "X_val = X_val.reshape(12000, 28, 28, 1)\n",
    "X_test = X_test.reshape(10000, 28, 28, 1)\n",
    "\n",
    "# Convert your dataset to float type\n",
    "# TO DO\n",
    "\n",
    "X_train = X_train.astype('float32')\n",
    "X_test = X_test.astype('float32')\n",
    "X_val = X_val.astype('float32')\n",
    "\n",
    "# Normalize the values\n",
    "# TO DO\n",
    "\n",
    "X_train = X_train / 255\n",
    "X_test = X_test / 255\n",
    "X_val = X_val / 255"
   ]
  },
  {
   "cell_type": "code",
   "execution_count": 4,
   "metadata": {
    "ExecuteTime": {
     "end_time": "2020-04-24T17:17:18.122719Z",
     "start_time": "2020-04-24T17:17:16.261569Z"
    },
    "colab": {},
    "colab_type": "code",
    "id": "_3SnJ0dRHO_f"
   },
   "outputs": [],
   "source": [
    "'''\n",
    "Preprocess the data for our pretrained model (requires 3 channels) and a mimimum height and \n",
    "width of 32.\n",
    "'''\n",
    "\n",
    "# Convert all images to shape (32,32,3)\n",
    "X_train_new=[]\n",
    "X_val_new=[]\n",
    "\n",
    "# TO DO\n",
    "    \n",
    "for i in range(len(X_train)):\n",
    "    # Padding is to increase dimention from 28 to 32\n",
    "    # top bottom and right left\n",
    "    # 28 + 2 + 2 from top bottom and right left\n",
    "    padding = cv2.copyMakeBorder(X_train[i], 2, 2, 2, 2, cv2.BORDER_CONSTANT)\n",
    "    \n",
    "    # adding 3 channels\n",
    "    colored = cv2.cvtColor(padding, cv2.COLOR_GRAY2RGB)\n",
    "    \n",
    "    X_train_new.append(colored)\n",
    "    \n",
    "for i in range(len(X_val)):\n",
    "    # Padding is to increase dimention from 28 to 32\n",
    "    padding = cv2.copyMakeBorder(X_val[i], 2, 2, 2, 2, cv2.BORDER_CONSTANT)\n",
    "    \n",
    "    # adding 3 channels\n",
    "    colored = cv2.cvtColor(padding, cv2.COLOR_GRAY2RGB)\n",
    "    \n",
    "    X_val_new.append(colored)\n",
    "    "
   ]
  },
  {
   "cell_type": "code",
   "execution_count": 5,
   "metadata": {
    "ExecuteTime": {
     "end_time": "2020-04-24T17:17:18.139531Z",
     "start_time": "2020-04-24T17:17:18.127918Z"
    },
    "colab": {},
    "colab_type": "code",
    "id": "daOrE-w3Hd_P"
   },
   "outputs": [],
   "source": [
    "def add_new_last_layer(base_model, nb_classes):\n",
    "    \"\"\"Add last layer to the convnet\n",
    "    Args:\n",
    "    base_model: keras model excluding top layer\n",
    "    nb_classes: number of classes\n",
    "    Returns:\n",
    "    new keras model with last fully connected layer\n",
    "    \"\"\"\n",
    "    FC_SIZE=1024\n",
    "    x = base_model.output\n",
    "    x = GlobalAveragePooling2D()(x)\n",
    "    x = Dense(FC_SIZE, activation='relu')(x) \n",
    "    predictions = Dense(nb_classes, activation='softmax')(x) \n",
    "    model = Model(input=base_model.input, output=predictions)\n",
    "    return model"
   ]
  },
  {
   "cell_type": "markdown",
   "metadata": {
    "colab_type": "text",
    "id": "XAg5AHSrHuPa"
   },
   "source": [
    "## Task 2: Transfer Learning\n",
    "\n",
    "Next you will employ Transfer Learning and finetune the pretrained vgg-16 model to better fit the Fashion MNIST data for 10 classes. You will:\n",
    "\n",
    "- Change the number of nodes in the last FC layer according to the number of classes i.e. 10 \n",
    "- Freeze everything except the FC layers and train it using the train split of our dataset (using appropriate hyperparameters), validating the network for validation split of data.\n",
    "- Plot loss/accuracy vs epochs curves for your simulation\n",
    "\n"
   ]
  },
  {
   "cell_type": "code",
   "execution_count": 6,
   "metadata": {
    "ExecuteTime": {
     "end_time": "2020-04-24T17:17:20.592032Z",
     "start_time": "2020-04-24T17:17:18.143229Z"
    },
    "colab": {},
    "colab_type": "code",
    "id": "sQJIzOqCHvUG"
   },
   "outputs": [],
   "source": [
    "# Load the keras base model excluding the top layer\n",
    "\n",
    "# TO DO\n",
    "# Hint\n",
    "# base_model=vgg16.VGG16(...)\n",
    "\n",
    "base_model = vgg16.VGG16(include_top=False, weights='imagenet', input_shape=(32, 32, 3))"
   ]
  },
  {
   "cell_type": "code",
   "execution_count": 7,
   "metadata": {
    "ExecuteTime": {
     "end_time": "2020-04-24T17:17:20.731062Z",
     "start_time": "2020-04-24T17:17:20.600179Z"
    },
    "colab": {},
    "colab_type": "code",
    "id": "ZB0WCgrSH-PU"
   },
   "outputs": [
    {
     "name": "stdout",
     "output_type": "stream",
     "text": [
      "Model: \"model_1\"\n",
      "_________________________________________________________________\n",
      "Layer (type)                 Output Shape              Param #   \n",
      "=================================================================\n",
      "input_1 (InputLayer)         (None, 32, 32, 3)         0         \n",
      "_________________________________________________________________\n",
      "block1_conv1 (Conv2D)        (None, 32, 32, 64)        1792      \n",
      "_________________________________________________________________\n",
      "block1_conv2 (Conv2D)        (None, 32, 32, 64)        36928     \n",
      "_________________________________________________________________\n",
      "block1_pool (MaxPooling2D)   (None, 16, 16, 64)        0         \n",
      "_________________________________________________________________\n",
      "block2_conv1 (Conv2D)        (None, 16, 16, 128)       73856     \n",
      "_________________________________________________________________\n",
      "block2_conv2 (Conv2D)        (None, 16, 16, 128)       147584    \n",
      "_________________________________________________________________\n",
      "block2_pool (MaxPooling2D)   (None, 8, 8, 128)         0         \n",
      "_________________________________________________________________\n",
      "block3_conv1 (Conv2D)        (None, 8, 8, 256)         295168    \n",
      "_________________________________________________________________\n",
      "block3_conv2 (Conv2D)        (None, 8, 8, 256)         590080    \n",
      "_________________________________________________________________\n",
      "block3_conv3 (Conv2D)        (None, 8, 8, 256)         590080    \n",
      "_________________________________________________________________\n",
      "block3_pool (MaxPooling2D)   (None, 4, 4, 256)         0         \n",
      "_________________________________________________________________\n",
      "block4_conv1 (Conv2D)        (None, 4, 4, 512)         1180160   \n",
      "_________________________________________________________________\n",
      "block4_conv2 (Conv2D)        (None, 4, 4, 512)         2359808   \n",
      "_________________________________________________________________\n",
      "block4_conv3 (Conv2D)        (None, 4, 4, 512)         2359808   \n",
      "_________________________________________________________________\n",
      "block4_pool (MaxPooling2D)   (None, 2, 2, 512)         0         \n",
      "_________________________________________________________________\n",
      "block5_conv1 (Conv2D)        (None, 2, 2, 512)         2359808   \n",
      "_________________________________________________________________\n",
      "block5_conv2 (Conv2D)        (None, 2, 2, 512)         2359808   \n",
      "_________________________________________________________________\n",
      "block5_conv3 (Conv2D)        (None, 2, 2, 512)         2359808   \n",
      "_________________________________________________________________\n",
      "block5_pool (MaxPooling2D)   (None, 1, 1, 512)         0         \n",
      "_________________________________________________________________\n",
      "global_average_pooling2d_1 ( (None, 512)               0         \n",
      "_________________________________________________________________\n",
      "dense_1 (Dense)              (None, 1024)              525312    \n",
      "_________________________________________________________________\n",
      "dense_2 (Dense)              (None, 10)                10250     \n",
      "=================================================================\n",
      "Total params: 15,250,250\n",
      "Trainable params: 535,562\n",
      "Non-trainable params: 14,714,688\n",
      "_________________________________________________________________\n"
     ]
    },
    {
     "name": "stderr",
     "output_type": "stream",
     "text": [
      "C:\\Users\\gs\\Anaconda3\\lib\\site-packages\\ipykernel_launcher.py:14: UserWarning: Update your `Model` call to the Keras 2 API: `Model(inputs=Tensor(\"in..., outputs=Tensor(\"de...)`\n",
      "  \n"
     ]
    }
   ],
   "source": [
    "# Since we will be using the pretrained weights for the image net dataset we will freeze \n",
    "# all layers of our base model (Done for you)\n",
    "\n",
    "for layer in base_model.layers:\n",
    "    layer.trainable = False\n",
    "    \n",
    "# We will now add a new last layer according to the number of classes in our dataset using \n",
    "# the \"add_new_last_layer()\" function provided to you\n",
    "\n",
    "# TO DO\n",
    "# Hint\n",
    "# vgg_imagenet_new=add_new_last_layer(base_model,...)\n",
    "\n",
    "vgg_imagenet_new = add_new_last_layer(base_model, 10)\n",
    "\n",
    "# Print Model Summary (Done for you)\n",
    "vgg_imagenet_new.summary()"
   ]
  },
  {
   "cell_type": "code",
   "execution_count": 8,
   "metadata": {
    "ExecuteTime": {
     "end_time": "2020-04-24T17:17:24.611436Z",
     "start_time": "2020-04-24T17:17:24.202382Z"
    },
    "colab": {},
    "colab_type": "code",
    "id": "8N0pekdtJndS"
   },
   "outputs": [],
   "source": [
    "# Intialize Optimizer for our model (Done for you). You can try using different optimizers \n",
    "# with different values\n",
    "\n",
    "adam = Adam(lr=1e-3, beta_1=0.9, beta_2=0.999, epsilon=1e-08)\n",
    "\n",
    "# Compile Model\n",
    "# TO DO\n",
    "\n",
    "# Hint\n",
    "# vgg_imagenet_new.compile(optimizer=adam,...)\n",
    "\n",
    "vgg_imagenet_new.compile(optimizer=adam, loss='categorical_crossentropy', \n",
    "                        metrics=['accuracy'])"
   ]
  },
  {
   "cell_type": "code",
   "execution_count": 9,
   "metadata": {
    "ExecuteTime": {
     "end_time": "2020-04-24T18:15:15.571220Z",
     "start_time": "2020-04-24T17:17:25.302401Z"
    },
    "colab": {},
    "colab_type": "code",
    "id": "BkIIzVeeKJbf"
   },
   "outputs": [
    {
     "name": "stdout",
     "output_type": "stream",
     "text": [
      "Train on 48000 samples, validate on 12000 samples\n",
      "Epoch 1/10\n",
      "48000/48000 [==============================] - 346s 7ms/step - loss: 0.5337 - accuracy: 0.8063 - val_loss: 0.4330 - val_accuracy: 0.8394\n",
      "Epoch 2/10\n",
      "48000/48000 [==============================] - 344s 7ms/step - loss: 0.4035 - accuracy: 0.8511 - val_loss: 0.4187 - val_accuracy: 0.8489\n",
      "Epoch 3/10\n",
      "48000/48000 [==============================] - 348s 7ms/step - loss: 0.3686 - accuracy: 0.8636 - val_loss: 0.3708 - val_accuracy: 0.8631\n",
      "Epoch 4/10\n",
      "48000/48000 [==============================] - 329s 7ms/step - loss: 0.3428 - accuracy: 0.8716 - val_loss: 0.3817 - val_accuracy: 0.8617\n",
      "Epoch 5/10\n",
      "48000/48000 [==============================] - 368s 8ms/step - loss: 0.3257 - accuracy: 0.8785 - val_loss: 0.3473 - val_accuracy: 0.8733\n",
      "Epoch 6/10\n",
      "48000/48000 [==============================] - 346s 7ms/step - loss: 0.3066 - accuracy: 0.8859 - val_loss: 0.3367 - val_accuracy: 0.8753\n",
      "Epoch 7/10\n",
      "48000/48000 [==============================] - 336s 7ms/step - loss: 0.2938 - accuracy: 0.8906 - val_loss: 0.3431 - val_accuracy: 0.8739\n",
      "Epoch 8/10\n",
      "48000/48000 [==============================] - 347s 7ms/step - loss: 0.2765 - accuracy: 0.8948 - val_loss: 0.3412 - val_accuracy: 0.8778\n",
      "Epoch 9/10\n",
      "48000/48000 [==============================] - 351s 7ms/step - loss: 0.2689 - accuracy: 0.8985 - val_loss: 0.3494 - val_accuracy: 0.8760\n",
      "Epoch 10/10\n",
      "48000/48000 [==============================] - 353s 7ms/step - loss: 0.2566 - accuracy: 0.9036 - val_loss: 0.3322 - val_accuracy: 0.8816\n"
     ]
    }
   ],
   "source": [
    "# Train the vgg-16 model\n",
    "epochs = 10\n",
    "batch_size = 64\n",
    "\n",
    "# TO DO\n",
    "# Hint\n",
    "# history=vgg_imagenet_new.fit(...)\n",
    "# The history variable will be used later to plot accuracy and loss curves\n",
    "\n",
    "# Converting to array from list form\n",
    "a = np.array(X_train_new)\n",
    "b = np.array(X_val_new)\n",
    "\n",
    "history = vgg_imagenet_new.fit(x=a, y=y_train, batch_size=batch_size, \n",
    "                              epochs=epochs, validation_data=(b, y_val))"
   ]
  },
  {
   "cell_type": "code",
   "execution_count": 10,
   "metadata": {
    "ExecuteTime": {
     "end_time": "2020-04-24T20:38:33.572079Z",
     "start_time": "2020-04-24T20:38:32.834467Z"
    },
    "colab": {},
    "colab_type": "code",
    "id": "CtG-N7iDKjAF"
   },
   "outputs": [],
   "source": [
    "# Lets test our transfer learned model on the test set\n",
    "# Preprocess the test data just like we did before i.e convert all images to shape (32,32,3)\n",
    "\n",
    "X_test_new=[]\n",
    "\n",
    "# TO DO\n",
    "    \n",
    "for i in range(len(X_test)):\n",
    "    # Padding is to increase dimention from 28 to 32\n",
    "    # top bottom and right left\n",
    "    # 28 + 2 + 2 from top bottom and right left\n",
    "    padding = cv2.copyMakeBorder(X_test[i], 2, 2, 2, 2, cv2.BORDER_CONSTANT)\n",
    "    \n",
    "    # adding 3 channels\n",
    "    colored = cv2.cvtColor(padding, cv2.COLOR_GRAY2RGB)\n",
    "    \n",
    "    X_test_new.append(colored)"
   ]
  },
  {
   "cell_type": "code",
   "execution_count": 11,
   "metadata": {
    "ExecuteTime": {
     "end_time": "2020-04-24T20:39:37.497270Z",
     "start_time": "2020-04-24T20:38:33.741702Z"
    },
    "colab": {},
    "colab_type": "code",
    "id": "_qvuVJaALC2J"
   },
   "outputs": [
    {
     "name": "stdout",
     "output_type": "stream",
     "text": [
      "10000/10000 [==============================] - 63s 6ms/step\n"
     ]
    },
    {
     "data": {
      "text/plain": [
       "[0.35134439702034, 0.8791000247001648]"
      ]
     },
     "execution_count": 11,
     "metadata": {},
     "output_type": "execute_result"
    }
   ],
   "source": [
    "# Evaluate the transfer learned model\n",
    "\n",
    "# TO DO\n",
    "# Hint\n",
    "# vgg_imagenet_new.evaluate(...)\n",
    "\n",
    "# Converting to array from list form\n",
    "a = np.array(X_test_new)\n",
    "\n",
    "vgg_imagenet_new.evaluate(x=a, y=y_test, batch_size=batch_size)\n",
    "\n",
    "# [test loss and test accuracy]"
   ]
  },
  {
   "cell_type": "code",
   "execution_count": 12,
   "metadata": {
    "ExecuteTime": {
     "end_time": "2020-04-24T21:09:04.836646Z",
     "start_time": "2020-04-24T21:09:03.470997Z"
    },
    "colab": {},
    "colab_type": "code",
    "id": "I9jenvyLLReE"
   },
   "outputs": [
    {
     "data": {
      "image/png": "[encoded data removed]",
      "text/plain": [
       "<Figure size 576x396 with 1 Axes>"
      ]
     },
     "metadata": {},
     "output_type": "display_data"
    }
   ],
   "source": [
    "# Plot training and validation accuracy curves using matplot lib\n",
    "\n",
    "# Hint\n",
    "# Values for training and validation accuarcy can be obtained using \n",
    "# history.history['accuracy'] and history.history['val_accuracy'] respectively\n",
    "\n",
    "training_accuracy_curve = history.history['accuracy']\n",
    "validation_accuracy_curve = history.history['val_accuracy']\n",
    "\n",
    "plt.plot(training_accuracy_curve)\n",
    "plt.plot(validation_accuracy_curve)\n",
    "plt.title('Model Accuracy')\n",
    "plt.ylabel('accuracy')\n",
    "plt.xlabel('epoch')\n",
    "plt.legend(['train', 'test'], loc='upper left')\n",
    "plt.show()"
   ]
  },
  {
   "cell_type": "code",
   "execution_count": 13,
   "metadata": {
    "ExecuteTime": {
     "end_time": "2020-04-24T21:09:05.140594Z",
     "start_time": "2020-04-24T21:09:04.838679Z"
    },
    "colab": {},
    "colab_type": "code",
    "id": "hB3OLXYgL41Y"
   },
   "outputs": [
    {
     "data": {
      "image/png": "[encoded data removed]",
      "text/plain": [
       "<Figure size 576x396 with 1 Axes>"
      ]
     },
     "metadata": {},
     "output_type": "display_data"
    }
   ],
   "source": [
    "# Plot training and validation loss curves using matplot lib\n",
    "\n",
    "# Hint\n",
    "# Values for training and validation loss can be obtained \n",
    "# using history.history['loss'] and history.history['val_loss'] respectively\n",
    "\n",
    "training_loss_curve = history.history['loss']\n",
    "validation_loss_curve = history.history['val_loss']\n",
    "\n",
    "plt.plot(training_loss_curve)\n",
    "plt.plot(validation_loss_curve)\n",
    "plt.title('Model Loss')\n",
    "plt.ylabel('accuracy')\n",
    "plt.xlabel('epoch')\n",
    "plt.legend(['train', 'test'], loc='upper left')\n",
    "plt.show()"
   ]
  },
  {
   "cell_type": "markdown",
   "metadata": {
    "colab_type": "text",
    "id": "4XATeh2MMHMe"
   },
   "source": [
    "## Task 3: Network Evaluation\n",
    "\n",
    "Next you will test your finetuned model by plotting a confusion matrix between classes predicted. You will:\n",
    "\n",
    "- Test your model for images in the test set\n",
    "- Construct a multiclass confusion matrix (for 10 classes) for actual and predicted class of each image and visualize the confusion matrix as a heatmap\n",
    "\n",
    "*You can use scikit-learn's `metrics.confusion_matrix` function. Consult the relevant documentation.* "
   ]
  },
  {
   "cell_type": "code",
   "execution_count": 14,
   "metadata": {
    "ExecuteTime": {
     "end_time": "2020-04-24T21:10:13.725989Z",
     "start_time": "2020-04-24T21:09:14.645808Z"
    },
    "colab": {},
    "colab_type": "code",
    "id": "F5oBJSb9MGIn"
   },
   "outputs": [
    {
     "name": "stdout",
     "output_type": "stream",
     "text": [
      "10000/10000 [==============================] - 58s 6ms/step\n"
     ]
    }
   ],
   "source": [
    "# Here a = np.array(X_test_new) defined in above cell which is just converting\n",
    "# from list to array form\n",
    "\n",
    "predictions = vgg_imagenet_new.predict(x=a, batch_size=batch_size, verbose=1)"
   ]
  },
  {
   "cell_type": "code",
   "execution_count": 15,
   "metadata": {
    "ExecuteTime": {
     "end_time": "2020-04-24T21:10:29.307295Z",
     "start_time": "2020-04-24T21:10:29.194132Z"
    },
    "scrolled": true
   },
   "outputs": [
    {
     "data": {
      "text/plain": [
       "array([[3.5516226e-08, 1.0209975e-09, 2.1583753e-08, ..., 5.4938649e-04,\n",
       "        7.2650676e-07, 9.9935776e-01],\n",
       "       [5.6962459e-04, 3.3397610e-10, 9.7978175e-01, ..., 8.9067642e-09,\n",
       "        5.6859875e-08, 7.4000645e-10],\n",
       "       [4.0541540e-08, 9.9999642e-01, 1.9939399e-09, ..., 1.4193767e-08,\n",
       "        6.2711322e-11, 1.2557184e-10],\n",
       "       ...,\n",
       "       [2.1354939e-05, 1.0360551e-08, 4.2840825e-06, ..., 7.4610301e-07,\n",
       "        9.9973029e-01, 3.3768526e-09],\n",
       "       [5.0560014e-09, 9.9998081e-01, 5.8814245e-11, ..., 7.9008987e-11,\n",
       "        3.7079094e-12, 7.2904801e-13],\n",
       "       [1.4798896e-03, 6.0521188e-06, 2.8246583e-04, ..., 9.3447030e-01,\n",
       "        1.3336807e-03, 1.1917120e-02]], dtype=float32)"
      ]
     },
     "execution_count": 15,
     "metadata": {},
     "output_type": "execute_result"
    }
   ],
   "source": [
    "predictions"
   ]
  },
  {
   "cell_type": "code",
   "execution_count": 16,
   "metadata": {
    "ExecuteTime": {
     "end_time": "2020-04-24T21:10:31.189563Z",
     "start_time": "2020-04-24T21:10:30.529491Z"
    }
   },
   "outputs": [
    {
     "data": {
      "image/png": "[encoded data removed]",
      "text/plain": [
       "<Figure size 1280x560 with 10 Axes>"
      ]
     },
     "metadata": {},
     "output_type": "display_data"
    }
   ],
   "source": [
    "# Visualizing some of the predictions\n",
    "\n",
    "fig, axes = plt.subplots(nrows=2, ncols=5, figsize=(16,7), dpi=80)\n",
    "\n",
    "i = 0\n",
    "for r in range(2):\n",
    "    for c in range(5):\n",
    "        \n",
    "        # Here a = np.array(X_test_new) defined in above cell which is just converting\n",
    "        # from list to array form\n",
    "        \n",
    "        axes[r,c].imshow(a[i])\n",
    "        axes[r,c].grid(False)\n",
    "        axes[r,c].axis('off')\n",
    "        axes[r,c].set_title(f'Prediction: {predictions[i,:].argmax()}, Truth: {y_test[i,:].argmax()}')\n",
    "        i += 1"
   ]
  },
  {
   "cell_type": "code",
   "execution_count": 17,
   "metadata": {
    "ExecuteTime": {
     "end_time": "2020-04-24T21:10:35.141709Z",
     "start_time": "2020-04-24T21:10:34.760733Z"
    }
   },
   "outputs": [
    {
     "data": {
      "text/plain": [
       "array([[828,   1,  11,  53,   4,   0,  91,   1,  11,   0],\n",
       "       [  3, 951,   1,  39,   1,   0,   4,   0,   1,   0],\n",
       "       [ 13,   1, 783,  23, 108,   0,  69,   0,   3,   0],\n",
       "       [ 18,   5,   2, 912,  27,   0,  32,   0,   4,   0],\n",
       "       [  7,   1,  63,  42, 825,   0,  60,   0,   2,   0],\n",
       "       [  0,   0,   0,   0,   0, 961,   0,  33,   0,   6],\n",
       "       [123,   1,  56,  54, 106,   0, 649,   0,  11,   0],\n",
       "       [  0,   0,   0,   0,   0,  14,   0, 947,   0,  39],\n",
       "       [  3,   0,   1,  10,   2,   5,   8,   0, 969,   2],\n",
       "       [  0,   0,   0,   0,   0,   7,   0,  27,   0, 966]], dtype=int64)"
      ]
     },
     "execution_count": 17,
     "metadata": {},
     "output_type": "execute_result"
    }
   ],
   "source": [
    "# Converting to array form (10 by 10 matrix)\n",
    "class_labels = np.arange(0, nb_classes, 1)\n",
    "\n",
    "# Confusion matrix\n",
    "confusion = confusion_matrix(y_test.argmax(axis=1), \n",
    "                         predictions.argmax(axis=1), \n",
    "                         labels=class_labels)\n",
    "\n",
    "confusion"
   ]
  },
  {
   "cell_type": "code",
   "execution_count": 18,
   "metadata": {
    "ExecuteTime": {
     "end_time": "2020-04-24T21:13:06.498108Z",
     "start_time": "2020-04-24T21:13:04.836240Z"
    }
   },
   "outputs": [
    {
     "data": {
      "image/png": "[encoded data removed]",
      "text/plain": [
       "<Figure size 720x640 with 2 Axes>"
      ]
     },
     "metadata": {},
     "output_type": "display_data"
    }
   ],
   "source": [
    "# Visualizing confusion matrix as a heat map\n",
    "\n",
    "fig, ax = plt.subplots(figsize=(9,8), dpi=80)\n",
    "sn.heatmap(confusion, \n",
    "            xticklabels=class_labels, \n",
    "            yticklabels=class_labels,\n",
    "            ax=ax)\n",
    "ax.set(xlabel='Predicted Label', ylabel='True Label');"
   ]
  },
  {
   "cell_type": "markdown",
   "metadata": {},
   "source": [
    "Accuracy is 87.9  %\n",
    "Diagonal represents true positive\n",
    "This means that model is not confused\n",
    "So it is pretty much accurate"
   ]
  },
  {
   "cell_type": "code",
   "execution_count": null,
   "metadata": {},
   "outputs": [],
   "source": []
  }
 ],
 "metadata": {
  "colab": {
   "collapsed_sections": [],
   "name": "CV_PA#4_Part#1.ipynb",
   "provenance": []
  },
  "kernelspec": {
   "display_name": "Python 3",
   "language": "python",
   "name": "python3"
  },
  "language_info": {
   "codemirror_mode": {
    "name": "ipython",
    "version": 3
   },
   "file_extension": ".py",
   "mimetype": "text/x-python",
   "name": "python",
   "nbconvert_exporter": "python",
   "pygments_lexer": "ipython3",
   "version": "3.7.6"
  },
  "toc": {
   "base_numbering": 1,
   "nav_menu": {},
   "number_sections": true,
   "sideBar": true,
   "skip_h1_title": false,
   "title_cell": "Table of Contents",
   "title_sidebar": "Contents",
   "toc_cell": false,
   "toc_position": {},
   "toc_section_display": true,
   "toc_window_display": false
  }
 },
 "nbformat": 4,
 "nbformat_minor": 1
}
